{
 "cells": [
  {
   "cell_type": "code",
   "execution_count": 1,
   "id": "60d32402",
   "metadata": {},
   "outputs": [
    {
     "name": "stdout",
     "output_type": "stream",
     "text": [
      "hi python\n"
     ]
    }
   ],
   "source": [
    "print('hi python')"
   ]
  },
  {
   "cell_type": "code",
   "execution_count": 3,
   "id": "10e3c1cd",
   "metadata": {},
   "outputs": [],
   "source": [
    "# print(\"you are a silly shoe! \")\n",
    "# print(\"chicken jockey\")"
   ]
  },
  {
   "cell_type": "code",
   "execution_count": null,
   "id": "05e68458",
   "metadata": {},
   "outputs": [],
   "source": [
    "#### This is a silly comment I made!\n",
    "print(\"blah blah blah\")"
   ]
  }
 ],
 "metadata": {
  "kernelspec": {
   "display_name": "Python 3",
   "language": "python",
   "name": "python3"
  },
  "language_info": {
   "codemirror_mode": {
    "name": "ipython",
    "version": 3
   },
   "file_extension": ".py",
   "mimetype": "text/x-python",
   "name": "python",
   "nbconvert_exporter": "python",
   "pygments_lexer": "ipython3",
   "version": "3.10.11"
  }
 },
 "nbformat": 4,
 "nbformat_minor": 5
}
