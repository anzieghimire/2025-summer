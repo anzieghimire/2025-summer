{
 "cells": [
  {
   "cell_type": "code",
   "execution_count": null,
   "id": "dc6aff12",
   "metadata": {},
   "outputs": [
    {
     "name": "stdout",
     "output_type": "stream",
     "text": [
      "Welcome to Guess the Word!\n",
      "Try to guess the letters in the secret word.\n"
     ]
    }
   ],
   "source": [
    "secret_word = \"python\"\n",
    "guessed_letters = []\n",
    "tries = 6\n",
    "\n",
    "print(\"Welcome to Guess the Word!\")\n",
    "print(\"Try to guess the letters in the secret word.\")\n",
    "\n",
    "while tries > 0:\n",
    "    guess = input(\"Guess a letter: \").lower()\n",
    "\n",
    "    if guess in guessed_letters:\n",
    "        print(\"You already guessed that letter!\")\n",
    "    elif guess in secret_word:\n",
    "        guessed_letters.append(guess)\n",
    "        print(\"Good job! That letter is in the word.\")\n",
    "    else:\n",
    "        tries -= 1\n",
    "        print(f\"Sorry, that letter is NOT in the word. Tries left: {tries}\")\n",
    "\n",
    "    # Show progress\n",
    "    display_word = \"\"\n",
    "    for letter in secret_word:\n",
    "        if letter in guessed_letters:\n",
    "            display_word += letter + \" \"\n",
    "        else:\n",
    "            display_word += \"_ \"\n",
    "    print(\"Word:\", display_word)\n",
    "\n",
    "    # Check if all letters guessed\n",
    "    if all(letter in guessed_letters for letter in secret_word):\n",
    "        print(\"You guessed it! You win! 🎉\")\n",
    "        break\n",
    "\n",
    "if tries == 0:\n",
    "    print(\"Out of tries! You lose. The word was:\", secret_word)\n"
   ]
  }
 ],
 "metadata": {
  "kernelspec": {
   "display_name": "Python 3",
   "language": "python",
   "name": "python3"
  },
  "language_info": {
   "codemirror_mode": {
    "name": "ipython",
    "version": 3
   },
   "file_extension": ".py",
   "mimetype": "text/x-python",
   "name": "python",
   "nbconvert_exporter": "python",
   "pygments_lexer": "ipython3",
   "version": "3.10.11"
  }
 },
 "nbformat": 4,
 "nbformat_minor": 5
}
