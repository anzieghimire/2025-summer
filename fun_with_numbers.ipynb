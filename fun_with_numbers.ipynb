{
 "cells": [
  {
   "cell_type": "code",
   "execution_count": null,
   "id": "61f52797",
   "metadata": {},
   "outputs": [],
   "source": [
    "my_imaginary_gpa = 3.47"
   ]
  },
  {
   "cell_type": "code",
   "execution_count": 3,
   "id": "04900120",
   "metadata": {},
   "outputs": [
    {
     "name": "stdout",
     "output_type": "stream",
     "text": [
      "9\n",
      "9\n",
      "3\n",
      "-3\n",
      "18\n",
      "18\n",
      "2.0\n",
      "0.5\n",
      "0\n",
      "3\n",
      "2\n",
      "0\n",
      "216\n",
      "729\n",
      "12\n",
      "0\n",
      "36\n",
      "1.0\n",
      "0\n",
      "1\n",
      "46656\n",
      "6\n",
      "0\n",
      "9\n",
      "1.0\n",
      "0\n",
      "1\n",
      "27\n"
     ]
    }
   ],
   "source": [
    "a = 6\n",
    "b = 3 \n",
    "print(a + b)\n",
    "print(b + a)\n",
    "print(a - b)\n",
    "print(b - a)\n",
    "print(a * b)\n",
    "print(b * a)\n",
    "print(a / b)\n",
    "print(b / a)\n",
    "print(a % b)\n",
    "print(b % a)\n",
    "print(a // b)\n",
    "print(b // a)\n",
    "print(a ** b)\n",
    "print(b ** a)\n",
    "print(a + a)\n",
    "print(a - a)\n",
    "print(a * a)\n",
    "print(a / a)\n",
    "print(a % a)\n",
    "print(a // a)\n",
    "print(a ** a)\n",
    "print(b + b)\n",
    "print(b - b)\n",
    "print(b * b)\n",
    "print(b / b)\n",
    "print(b % b)\n",
    "print(b // b)\n",
    "print(b ** b)"
   ]
  },
  {
   "cell_type": "code",
   "execution_count": 4,
   "id": "e5f82eb6",
   "metadata": {},
   "outputs": [
    {
     "name": "stdout",
     "output_type": "stream",
     "text": [
      "23.15\n"
     ]
    }
   ],
   "source": [
    "total = 20 + (20 * .0825) - 1.5 + 3\n",
    "print(total)"
   ]
  },
  {
   "cell_type": "code",
   "execution_count": 8,
   "id": "2a466866",
   "metadata": {},
   "outputs": [
    {
     "data": {
      "text/plain": [
       "True"
      ]
     },
     "execution_count": 8,
     "metadata": {},
     "output_type": "execute_result"
    }
   ],
   "source": [
    "3 < 7"
   ]
  },
  {
   "cell_type": "code",
   "execution_count": 9,
   "id": "26af5e5c",
   "metadata": {},
   "outputs": [
    {
     "data": {
      "text/plain": [
       "False"
      ]
     },
     "execution_count": 9,
     "metadata": {},
     "output_type": "execute_result"
    }
   ],
   "source": [
    "5 != \"five\"\n",
    "10 != \"10\"\n",
    "4 != 3\n",
    "9 != 9\n"
   ]
  },
  {
   "cell_type": "code",
   "execution_count": 25,
   "id": "2ee2e444",
   "metadata": {},
   "outputs": [
    {
     "ename": "TypeError",
     "evalue": "'str' object is not callable",
     "output_type": "error",
     "traceback": [
      "\u001b[1;31m---------------------------------------------------------------------------\u001b[0m",
      "\u001b[1;31mTypeError\u001b[0m                                 Traceback (most recent call last)",
      "Cell \u001b[1;32mIn[25], line 2\u001b[0m\n\u001b[0;32m      1\u001b[0m pepperoni \u001b[38;5;241m=\u001b[39m \u001b[38;5;28;01mTrue\u001b[39;00m\n\u001b[1;32m----> 2\u001b[0m \u001b[38;5;28;43minput\u001b[39;49m\u001b[43m(\u001b[49m\u001b[38;5;124;43m\"\u001b[39;49m\u001b[38;5;124;43mHey, let\u001b[39;49m\u001b[38;5;124;43m'\u001b[39;49m\u001b[38;5;124;43ms make your pizza! We have the pepperoni, bread and sauce, but we\u001b[39;49m\u001b[38;5;124;43m'\u001b[39;49m\u001b[38;5;124;43mre missing something. Cheese or mushrooms? \u001b[39;49m\u001b[38;5;124;43m\"\u001b[39;49m\u001b[43m)\u001b[49m\n\u001b[0;32m      3\u001b[0m \u001b[38;5;28;01mif\u001b[39;00m \u001b[38;5;28minput\u001b[39m \u001b[38;5;241m==\u001b[39m \u001b[38;5;124m\"\u001b[39m\u001b[38;5;124mmushrooms\u001b[39m\u001b[38;5;124m\"\u001b[39m:\n\u001b[0;32m      4\u001b[0m  cheese \u001b[38;5;241m=\u001b[39m \u001b[38;5;28;01mFalse\u001b[39;00m\n",
      "\u001b[1;31mTypeError\u001b[0m: 'str' object is not callable"
     ]
    }
   ],
   "source": [
    "pepperoni = True\n",
    "input(\"Hey, let's make your pizza! We have the pepperoni, bread and sauce, but we're missing something. Cheese or mushrooms? \")\n",
    "if input == \"mushrooms\":\n",
    " cheese = False\n",
    "if input != \"cheese\" or input != \"mushrooms\":\n",
    " print(\"That isn't an option, silly!\")\n",
    " print(\"You're gonna have to restart this. Bye!\")\n",
    " if input := \"cheese\":\n",
    "  cheese = True\n",
    "\n",
    "pepperoni_cheese_pizza = pepperoni and cheese == True\n",
    "if pepperoni_cheese_pizza := False:\n",
    " print(\"Looks like you're missing a topping or part of your pizza! Check again.\")\n",
    "else:\n",
    " print(\"Yum! This pizza is looking delicious, great job!\")"
   ]
  },
  {
   "cell_type": "code",
   "execution_count": null,
   "id": "fee2df70",
   "metadata": {},
   "outputs": [],
   "source": [
    "age = 3 * 3\n",
    "name = \"Anzie\"\n",
    "print(f\"Hi! My name is {name} and I am {age} years old!\")"
   ]
  },
  {
   "cell_type": "code",
   "execution_count": 29,
   "id": "2f9d6add",
   "metadata": {},
   "outputs": [
    {
     "name": "stdout",
     "output_type": "stream",
     "text": [
      "333.0\n"
     ]
    }
   ],
   "source": [
    "e = 3 ** 3\n",
    "x = 100 % e\n",
    "print(x * 17.526315789473685)"
   ]
  },
  {
   "cell_type": "code",
   "execution_count": null,
   "id": "a73fffcc",
   "metadata": {},
   "outputs": [
    {
     "name": "stdout",
     "output_type": "stream",
     "text": [
      "Let's see if Teddy has more chocolate chips than Dolores! Beep boop beep... False!\n",
      "Does Rey have more chocolate chips than Finn? Beep booooooop beeep... False!\n",
      "Do Tom and Jerry have the same amount of choclate chips? Let's see! Beeeeeeeeeeep... False!\n",
      "Do Neo and Trinity have the same number of chocolate chips? Beeep boop beeeeeeeeeeeeeeeeep... True!\n",
      "Does Kiki have less chocolae chips than Gigi? Boooooooooooop... True!\n",
      "Does Bernard have at least as many chocolate chips as Elsie? Beeeeeep booooooop... False\n"
     ]
    }
   ],
   "source": [
    "dolores_choc_chips = 13\n",
    "teddy_choc_chips = 9\n",
    "print(f\"Let's see if Teddy has more chocolate chips than Dolores! Beep boop beep... {teddy_choc_chips > dolores_choc_chips}!\")\n",
    "rey_choc_chip = 10\n",
    "finn_choc_chips = 18\n",
    "print(f\"Does Rey have more chocolate chips than Finn? Beep booooooop beeep... {rey_choc_chip > finn_choc_chips}!\")\n",
    "tomChocChips = 50\n",
    "jerryChocChips = \"50\"\n",
    "print(f\"Do Tom and Jerry have the same amount of choclate chips? Let's see! Beeeeeeeeeeep... {tomChocChips == jerryChocChips}!\")\n",
    "neoChocChips = 3\n",
    "trinityChocChips = 3\n",
    "print(f\"Do Neo and Trinity have the same number of chocolate chips? Beeep boop beeeeeeeeeeeeeeeeep... {neoChocChips == trinityChocChips}!\")\n",
    "kikiChocChips = 30\n",
    "gigiChocChips = 31\n",
    "print(f\"Does Kiki have less chocolae chips than Gigi? Boooooooooooop... {kikiChocChips < gigiChocChips}!\")\n",
    "bernardChocChips = 1010\n",
    "elsieChocChips = 10101\n",
    "print(f\"Does Bernard have at least as many chocolate chips as Elsie? Beeeeeep booooooop... {bernardChocChips >= elsieChocChips}!\")"
   ]
  },
  {
   "cell_type": "code",
   "execution_count": null,
   "id": "417d3114",
   "metadata": {},
   "outputs": [],
   "source": [
    "totalPeople = 124\n",
    "grahamCrackerCrustLovers = 40\n",
    "vanillaWaferCrustLovers = 64\n",
    "oreoCrustLovers = 20\n",
    "#### Chocolate and Caramel Pie\n",
    "chocCaramelCrust = \"Graham Cracker\"\n",
    "chocCaramelSlices = 10\n",
    "#### Triple Berry Pie\n",
    "TripleBerryCrust = \"Vanilla Wafer\"\n",
    "tripleBerrySlices = 12\n",
    "#### Pumpkin Pie\n",
    "pumpkinPieCrust = \"Graham Cracker\"\n",
    "pumpkinPieSlices = 12\n",
    "#### Apple Pie\n",
    "applePieCrust = \"Vanilla Wafer\"\n",
    "applePieSlices = 10\n",
    "#### Banana Cream Pie\n",
    "bananaCreamCrust = \"Vanilla Wafer\"\n",
    "bananaCreamSlices = 10\n",
    "#### Mango Pie\n",
    "mangoPieCrust = \"Graham Cracker\"\n",
    "mangoSlices = 12\n",
    "#### S'mores Pie\n",
    "smoresCrust = \"Oreo\"\n",
    "smoresSlices = 12\n"
   ]
  }
 ],
 "metadata": {
  "kernelspec": {
   "display_name": "Python 3",
   "language": "python",
   "name": "python3"
  },
  "language_info": {
   "codemirror_mode": {
    "name": "ipython",
    "version": 3
   },
   "file_extension": ".py",
   "mimetype": "text/x-python",
   "name": "python",
   "nbconvert_exporter": "python",
   "pygments_lexer": "ipython3",
   "version": "3.10.11"
  }
 },
 "nbformat": 4,
 "nbformat_minor": 5
}
