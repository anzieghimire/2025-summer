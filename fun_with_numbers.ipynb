{
 "cells": [
  {
   "cell_type": "code",
   "execution_count": null,
   "id": "61f52797",
   "metadata": {},
   "outputs": [],
   "source": [
    "my_imaginary_gpa = 3.47"
   ]
  },
  {
   "cell_type": "code",
   "execution_count": 3,
   "id": "04900120",
   "metadata": {},
   "outputs": [
    {
     "name": "stdout",
     "output_type": "stream",
     "text": [
      "9\n",
      "9\n",
      "3\n",
      "-3\n",
      "18\n",
      "18\n",
      "2.0\n",
      "0.5\n",
      "0\n",
      "3\n",
      "2\n",
      "0\n",
      "216\n",
      "729\n",
      "12\n",
      "0\n",
      "36\n",
      "1.0\n",
      "0\n",
      "1\n",
      "46656\n",
      "6\n",
      "0\n",
      "9\n",
      "1.0\n",
      "0\n",
      "1\n",
      "27\n"
     ]
    }
   ],
   "source": [
    "a = 6\n",
    "b = 3 \n",
    "print(a + b)\n",
    "print(b + a)\n",
    "print(a - b)\n",
    "print(b - a)\n",
    "print(a * b)\n",
    "print(b * a)\n",
    "print(a / b)\n",
    "print(b / a)\n",
    "print(a % b)\n",
    "print(b % a)\n",
    "print(a // b)\n",
    "print(b // a)\n",
    "print(a ** b)\n",
    "print(b ** a)\n",
    "print(a + a)\n",
    "print(a - a)\n",
    "print(a * a)\n",
    "print(a / a)\n",
    "print(a % a)\n",
    "print(a // a)\n",
    "print(a ** a)\n",
    "print(b + b)\n",
    "print(b - b)\n",
    "print(b * b)\n",
    "print(b / b)\n",
    "print(b % b)\n",
    "print(b // b)\n",
    "print(b ** b)"
   ]
  },
  {
   "cell_type": "code",
   "execution_count": 4,
   "id": "e5f82eb6",
   "metadata": {},
   "outputs": [
    {
     "name": "stdout",
     "output_type": "stream",
     "text": [
      "23.15\n"
     ]
    }
   ],
   "source": [
    "total = 20 + (20 * .0825) - 1.5 + 3\n",
    "print(total)"
   ]
  },
  {
   "cell_type": "code",
   "execution_count": 8,
   "id": "2a466866",
   "metadata": {},
   "outputs": [
    {
     "data": {
      "text/plain": [
       "True"
      ]
     },
     "execution_count": 8,
     "metadata": {},
     "output_type": "execute_result"
    }
   ],
   "source": [
    "3 < 7"
   ]
  },
  {
   "cell_type": "code",
   "execution_count": 9,
   "id": "26af5e5c",
   "metadata": {},
   "outputs": [
    {
     "data": {
      "text/plain": [
       "False"
      ]
     },
     "execution_count": 9,
     "metadata": {},
     "output_type": "execute_result"
    }
   ],
   "source": [
    "5 != \"five\"\n",
    "10 != \"10\"\n",
    "4 != 3\n",
    "9 != 9\n"
   ]
  },
  {
   "cell_type": "code",
   "execution_count": 44,
   "id": "2ee2e444",
   "metadata": {},
   "outputs": [
    {
     "ename": "TypeError",
     "evalue": "'str' object is not callable",
     "output_type": "error",
     "traceback": [
      "\u001b[1;31m---------------------------------------------------------------------------\u001b[0m",
      "\u001b[1;31mTypeError\u001b[0m                                 Traceback (most recent call last)",
      "Cell \u001b[1;32mIn[44], line 2\u001b[0m\n\u001b[0;32m      1\u001b[0m pepperoni \u001b[38;5;241m=\u001b[39m \u001b[38;5;28;01mTrue\u001b[39;00m\n\u001b[1;32m----> 2\u001b[0m \u001b[38;5;28;43minput\u001b[39;49m\u001b[43m(\u001b[49m\u001b[38;5;124;43m\"\u001b[39;49m\u001b[38;5;124;43mHey, let\u001b[39;49m\u001b[38;5;124;43m'\u001b[39;49m\u001b[38;5;124;43ms make your pizza! We have the pepperoni, bread and sauce, but we\u001b[39;49m\u001b[38;5;124;43m'\u001b[39;49m\u001b[38;5;124;43mre missing something. Cheese or mushrooms? \u001b[39;49m\u001b[38;5;124;43m\"\u001b[39;49m\u001b[43m)\u001b[49m\n\u001b[0;32m      3\u001b[0m \u001b[38;5;28;01mif\u001b[39;00m \u001b[38;5;28minput\u001b[39m \u001b[38;5;241m==\u001b[39m \u001b[38;5;124m\"\u001b[39m\u001b[38;5;124mmushrooms\u001b[39m\u001b[38;5;124m\"\u001b[39m:\n\u001b[0;32m      4\u001b[0m  cheese \u001b[38;5;241m=\u001b[39m \u001b[38;5;28;01mFalse\u001b[39;00m\n",
      "\u001b[1;31mTypeError\u001b[0m: 'str' object is not callable"
     ]
    }
   ],
   "source": [
    "pepperoni = True\n",
    "input(\"Hey, let's make your pizza! We have the pepperoni, bread and sauce, but we're missing something. Cheese or mushrooms? \")\n",
    "if input == \"mushrooms\":\n",
    " cheese = False\n",
    "if input != \"cheese\" or input != \"mushrooms\":\n",
    " print(\"That isn't an option, silly!\")\n",
    " print(\"You're gonna have to restart this. Bye!\")\n",
    " if input := \"cheese\":\n",
    "  cheese = True\n",
    "\n",
    "pepperoni_cheese_pizza = pepperoni and cheese == True\n",
    "if pepperoni_cheese_pizza := False:\n",
    " print(\"Looks like you're missing a topping or part of your pizza! Check again.\")\n",
    "else:\n",
    " print(\"Yum! This pizza is looking delicious, great job!\")"
   ]
  },
  {
   "cell_type": "code",
   "execution_count": null,
   "id": "fee2df70",
   "metadata": {},
   "outputs": [],
   "source": [
    "age = 3 * 3\n",
    "name = \"Anzie\"\n",
    "print(f\"Hi! My name is {name} and I am {age} years old!\")"
   ]
  },
  {
   "cell_type": "code",
   "execution_count": 29,
   "id": "2f9d6add",
   "metadata": {},
   "outputs": [
    {
     "name": "stdout",
     "output_type": "stream",
     "text": [
      "333.0\n"
     ]
    }
   ],
   "source": [
    "e = 3 ** 3\n",
    "x = 100 % e\n",
    "print(x * 17.526315789473685)"
   ]
  },
  {
   "cell_type": "code",
   "execution_count": 37,
   "id": "a73fffcc",
   "metadata": {},
   "outputs": [
    {
     "name": "stdout",
     "output_type": "stream",
     "text": [
      "Let's see if Teddy has more chocolate chips than Dolores! Beep boop beep... False!\n",
      "Does Rey have more chocolate chips than Finn? Beep booooooop beeep... False!\n",
      "Do Tom and Jerry have the same amount of choclate chips? Let's see! Beeeeeeeeeeep... False!\n",
      "Do Neo and Trinity have the same number of chocolate chips? Beeep boop beeeeeeeeeeeeeeeeep... True!\n",
      "Does Kiki have less chocolae chips than Gigi? Boooooooooooop... True!\n",
      "Does Bernard have at least as many chocolate chips as Elsie? Beeeeeep booooooop... False\n"
     ]
    }
   ],
   "source": [
    "dolores_choc_chips = 13\n",
    "teddy_choc_chips = 9\n",
    "print(f\"Let's see if Teddy has more chocolate chips than Dolores! Beep boop beep... {teddy_choc_chips > dolores_choc_chips}!\")\n",
    "rey_choc_chip = 10\n",
    "finn_choc_chips = 18\n",
    "print(f\"Does Rey have more chocolate chips than Finn? Beep booooooop beeep... {rey_choc_chip > finn_choc_chips}!\")\n",
    "tomChocChips = 50\n",
    "jerryChocChips = \"50\"\n",
    "print(f\"Do Tom and Jerry have the same amount of choclate chips? Let's see! Beeeeeeeeeeep... {tomChocChips == jerryChocChips}!\")\n",
    "neoChocChips = 3\n",
    "trinityChocChips = 3\n",
    "print(f\"Do Neo and Trinity have the same number of chocolate chips? Beeep boop beeeeeeeeeeeeeeeeep... {neoChocChips == trinityChocChips}!\")\n",
    "kikiChocChips = 30\n",
    "gigiChocChips = 31\n",
    "print(f\"Does Kiki have less chocolae chips than Gigi? Boooooooooooop... {kikiChocChips < gigiChocChips}!\")\n",
    "bernardChocChips = 1010\n",
    "elsieChocChips = 10101\n",
    "print(f\"Does Bernard have at least as many chocolate chips as Elsie? Beeeeeep booooooop... {bernardChocChips >= elsieChocChips}!\")"
   ]
  },
  {
   "cell_type": "code",
   "execution_count": 43,
   "id": "417d3114",
   "metadata": {},
   "outputs": [
    {
     "name": "stdout",
     "output_type": "stream",
     "text": [
      "Can the Chocolate and Caramel Pie be divided evenly among all Graham Crust Lovers? False\n",
      "Can you divide the Triple Berry Pie evenly among all Vanilla Wafer Crust lovers? False\n",
      "Can you evenly divide the Pumpkin Pie among all Graham Cracker crust lovers? False\n",
      "Can you divide the Apple Pie evenly among all the Vanilla Wafer crust lovers? False\n",
      "Can you evenly divide the Banana Cream Pie among all Vanilla Wafer Crust lovers? False\n",
      "Can you evenly divide the Mango Pie among all the Graham Cracker Crust lovers? False\n",
      "Can you divide the S'mores Pie evenly among all the Oreo crust lovers? False\n"
     ]
    }
   ],
   "source": [
    "totalPeople = 124\n",
    "grahamCrackerCrustLovers = 40\n",
    "vanillaWaferCrustLovers = 64\n",
    "oreoCrustLovers = 20\n",
    "#### Chocolate and Caramel Pie\n",
    "chocCaramelCrust = \"Graham Cracker\"\n",
    "chocCaramelSlices = 10\n",
    "#### Triple Berry Pie\n",
    "TripleBerryCrust = \"Vanilla Wafer\"\n",
    "tripleBerrySlices = 12\n",
    "#### Pumpkin Pie\n",
    "pumpkinPieCrust = \"Graham Cracker\"\n",
    "pumpkinPieSlices = 12\n",
    "#### Apple Pie\n",
    "applePieCrust = \"Vanilla Wafer\"\n",
    "applePieSlices = 10\n",
    "#### Banana Cream Pie\n",
    "bananaCreamCrust = \"Vanilla Wafer\"\n",
    "bananaCreamSlices = 10\n",
    "#### Mango Pie\n",
    "mangoPieCrust = \"Graham Cracker\"\n",
    "mangoSlices = 12\n",
    "#### S'mores Pie\n",
    "smoresCrust = \"Oreo\"\n",
    "smoresSlices = 12\n",
    "\n",
    "\n",
    "canDivideCCEvenly = chocCaramelSlices % grahamCrackerCrustLovers == 0\n",
    "\n",
    "print(f\"Can the Chocolate and Caramel Pie be divided evenly among all Graham Crust Lovers? {canDivideCCEvenly}\")\n",
    "\n",
    "canDivideTBevenly = tripleBerrySlices % vanillaWaferCrustLovers == 0\n",
    "canDividePumpkinEvenly = pumpkinPieSlices % grahamCrackerCrustLovers == 0\n",
    "canDivideAppleEvenly = applePieSlices % vanillaWaferCrustLovers == 0\n",
    "canDivideBCevenly = bananaCreamSlices % vanillaWaferCrustLovers == 0\n",
    "canDivideMangoEvenly = mangoSlices % grahamCrackerCrustLovers == 0\n",
    "canDivideSmoresEvenly = smoresSlices % oreoCrustLovers == 0\n",
    "print(f\"Can you divide the Triple Berry Pie evenly among all Vanilla Wafer Crust lovers? {canDivideTBevenly}\")\n",
    "print(f\"Can you evenly divide the Pumpkin Pie among all Graham Cracker crust lovers? {canDividePumpkinEvenly}\")\n",
    "print(f\"Can you divide the Apple Pie evenly among all the Vanilla Wafer crust lovers? {canDivideAppleEvenly}\")\n",
    "print(f\"Can you evenly divide the Banana Cream Pie among all Vanilla Wafer Crust lovers? {canDivideBCevenly}\")\n",
    "print(f\"Can you evenly divide the Mango Pie among all the Graham Cracker Crust lovers? {canDivideMangoEvenly}\")\n",
    "print(f\"Can you divide the S'mores Pie evenly among all the Oreo crust lovers? {canDivideSmoresEvenly}\")"
   ]
  },
  {
   "cell_type": "code",
   "execution_count": 61,
   "id": "ddaaae42",
   "metadata": {},
   "outputs": [
    {
     "name": "stdout",
     "output_type": "stream",
     "text": [
      "At least one person is wearing purple? True\n",
      "Cher and Dionne have different dress colors? True\n",
      "At least one person is wearing pink? True\n",
      "Nobody is wearing green? True\n",
      "Cher and Dionne have the same shoe color? False\n"
     ]
    }
   ],
   "source": [
    "cherDressColor = \"pink\" \n",
    "cherShoeColor = \"white\" \n",
    "cherHasEarrings = \"True\" \n",
    "dionneDressColor = \"purple\" \n",
    "dionneShoeColor = \"pink\"  \n",
    "dionneHasEarrings = \"True\"\n",
    "dionneWearingPurple = dionneDressColor == \"purple\"\n",
    "dionneWearingEarrings = dionneHasEarrings == \"True\"\n",
    "dionneWearingPink = dionneShoeColor == \"pink\" \n",
    "cherWearingPurple = cherDressColor == \"purple\"\n",
    "cherWearingEarrings = cherHasEarrings == \"True\" \n",
    "cherWearingPink = cherShoeColor == \"pink\" \n",
    "cherWearingWhite = cherShoeColor == \"white\" \n",
    "dionneNOTwearingGREEN = dionneDressColor != \"green\"\n",
    "cherNOTwearingGREEN = cherDressColor != \"green\" \n",
    "bothNotWearingGreen = dionneNOTwearingGREEN and cherNOTwearingGREEN == True\n",
    "print(f\"At least one person is wearing purple? {dionneWearingPurple}\")\n",
    "print(f\"Cher and Dionne have different dress colors? {cherDressColor != dionneDressColor}\")\n",
    "print(f\"At least one person is wearing pink? {dionneWearingPink}\")\n",
    "print(f\"Nobody is wearing green? {bothNotWearingGreen}\")\n",
    "print(f\"Cher and Dionne have the same shoe color? {cherShoeColor == dionneShoeColor}\")       "
   ]
  },
  {
   "cell_type": "code",
   "execution_count": 63,
   "id": "f86dc50e",
   "metadata": {},
   "outputs": [
    {
     "name": "stdout",
     "output_type": "stream",
     "text": [
      " \n",
      "Here is the final report for lab materials:\n",
      "-\n",
      "Each girl has enough safety glasses: True\n",
      "Each girl has enough rubber gloves: True\n",
      "Each girl has enough tubes: True\n",
      "Each girl has enough beakers: True\n",
      "-\n",
      "There are enough gloves and safety glasses for each girl: True\n",
      "There are enough tubes and or enough beakers for each girl: True\n",
      "Each girl has enough safety glasses and beakers or enough tubes and beakers: True\n",
      "Each girl has enough gloves, safety glasses, tubes, and beakers: True\n",
      "\n",
      "\n"
     ]
    }
   ],
   "source": [
    "beakers = 20\n",
    "tubes = 30\n",
    "rubberGloves = 10\n",
    "safetyGlasses = 4\n",
    "enoughBeakers = beakers // 4 >= 0\n",
    "enoughTubes = tubes // 4 >= 0\n",
    "enoughRubberGloves = rubberGloves // 4 >= 0\n",
    "enoughSafetyGlasses = safetyGlasses // 4 >= 0\n",
    "enoughGlovesAndSafetyGlasses = rubberGloves // 4 >= 0 and safetyGlasses // 4 >= 0\n",
    "enoughTubesAndOrBeakers = enoughTubes and enoughBeakers or enoughTubes or enoughBeakers\n",
    "enoughSafetyGlassesAndBeakersOrTubesAndBeakers = safetyGlasses // 4 >= 0 and beakers // 4 >= 0 or tubes // 4 >= 0 and beakers // 4 >= 0\n",
    "enoughEverything = safetyGlasses // 4 >= 0 and rubberGloves // 4 >= 0 and tubes // 4 >= 0 and beakers // 4 >= 0\n",
    "finalReport = f''' \n",
    "Here is the final report for lab materials:\n",
    "-\n",
    "Each girl has enough safety glasses: {enoughSafetyGlasses}\n",
    "Each girl has enough rubber gloves: {enoughRubberGloves}\n",
    "Each girl has enough tubes: {enoughTubes}\n",
    "Each girl has enough beakers: {enoughBeakers}\n",
    "-\n",
    "There are enough gloves and safety glasses for each girl: {enoughGlovesAndSafetyGlasses}\n",
    "There are enough tubes and or enough beakers for each girl: {enoughTubesAndOrBeakers}\n",
    "Each girl has enough safety glasses and beakers or enough tubes and beakers: {enoughSafetyGlassesAndBeakersOrTubesAndBeakers}\n",
    "Each girl has enough gloves, safety glasses, tubes, and beakers: {enoughEverything}\n",
    "\n",
    "''' \n",
    "print(finalReport)\n"
   ]
  },
  {
   "cell_type": "code",
   "execution_count": null,
   "id": "a095b660",
   "metadata": {},
   "outputs": [
    {
     "name": "stdout",
     "output_type": "stream",
     "text": [
      "The pentatopia galaxy has 59049 planets!\n"
     ]
    }
   ],
   "source": [
    "print(f\"The Pentatopia galaxy has {9 ** 5} planets!\")\n",
    "print(f\"The Tripolia galaxy has {3 ** 5} planets!\")\n",
    "print(f\"The Deka galaxy has {10 ** 5} planets!\")\n",
    "print(f\"The Heptaton galaxy has {7 ** 5} planets!\")\n",
    "print(f\" The Oktopia galaxy has {8 ** 5} planets!\")"
   ]
  },
  {
   "cell_type": "code",
   "execution_count": 68,
   "id": "6146963f",
   "metadata": {},
   "outputs": [
    {
     "name": "stdout",
     "output_type": "stream",
     "text": [
      " \n",
      "Hi, my name is Anzie.\n",
      "I chose fried chicken as my main meal!\n",
      "To go with it, I chose french fries and mashed potatoes as my sides.\n",
      "And the best part, I have chocolate ice cream, strawberry ice cream,\n",
      "and a vanilla donut waiting for me for dessert!\n",
      "Let's eat!\n",
      "\n"
     ]
    }
   ],
   "source": [
    "myName = \"Anzie\"\n",
    "entree = \"fried chicken\"\n",
    "sideOne = \"french fries\"\n",
    "sideTwo = \"mashed potatoes\"\n",
    "dessertOne = \"chocolate ice cream\" \n",
    "dessertTwo = \"strawberry ice cream\" \n",
    "dessertThree = \"vanilla donut\" \n",
    "dinnerDecision = f''' \n",
    "Hi, my name is {myName}.\n",
    "I chose {entree} as my main meal!\n",
    "To go with it, I chose {sideOne} and {sideTwo} as my sides.\n",
    "And the best part, I have {dessertOne}, {dessertTwo},\n",
    "and a {dessertThree} waiting for me for dessert!\n",
    "Let's eat!\n",
    "''' \n",
    "print(dinnerDecision)"
   ]
  },
  {
   "cell_type": "code",
   "execution_count": 69,
   "id": "14291856",
   "metadata": {},
   "outputs": [
    {
     "name": "stdout",
     "output_type": "stream",
     "text": [
      "basketball\n"
     ]
    }
   ],
   "source": [
    "print(\"basket\" + \"ball\" )"
   ]
  },
  {
   "cell_type": "code",
   "execution_count": 70,
   "id": "9ec8688b",
   "metadata": {},
   "outputs": [
    {
     "name": "stdout",
     "output_type": "stream",
     "text": [
      "stealthypython\n"
     ]
    }
   ],
   "source": [
    "firstName = \"stealthy\" \n",
    "lastName = \"python\" \n",
    "fullName = firstName + lastName\n",
    "print(fullName)"
   ]
  },
  {
   "cell_type": "code",
   "execution_count": 72,
   "id": "64ea777d",
   "metadata": {},
   "outputs": [
    {
     "name": "stdout",
     "output_type": "stream",
     "text": [
      "balloon!balloon!balloon!balloon!balloon!\n"
     ]
    }
   ],
   "source": [
    "print( 5 * \"balloon!\")"
   ]
  },
  {
   "cell_type": "code",
   "execution_count": 75,
   "id": "823ce50b",
   "metadata": {},
   "outputs": [
    {
     "data": {
      "text/plain": [
       "False"
      ]
     },
     "execution_count": 75,
     "metadata": {},
     "output_type": "execute_result"
    }
   ],
   "source": [
    "myFavoriteDesserts = ['Cookies', 'cake', 'ice cream', 'donuts' ]\n",
    "citruses = ['orange', 'lemon', 'grapefruit', 'pomelo', 'lime' ]\n",
    "bunniesSpotted = [3, 5, 2, 8, 4, 5, 4, 3, 3, ]\n",
    "robotAnswers = [True, False, False, True, True]\n",
    "factsAboutStealthyPython = ['Stealthy', 'Python', 9, True]\n",
    "moreCitruses = ['orange', 'grapefruit', 'lemon', 'lime', 'pomelo']\n",
    "citruses == moreCitruses"
   ]
  },
  {
   "cell_type": "code",
   "execution_count": null,
   "id": "db2a0066",
   "metadata": {},
   "outputs": [
    {
     "name": "stdout",
     "output_type": "stream",
     "text": [
      "!emiM eht tolB si eman yM\n",
      ".sdrawkcab kaeps ylno nac I\n",
      "!stnuoc tnecca ro egaugnal tnereffid A ?kaeps uoy od woH\n",
      "(:< nuf os si loot esrever ehT\n"
     ]
    }
   ],
   "source": [
    "#### (:< nuf os si loot esrever ehT\n",
    "print(\"My name is Blot the Mime!\"[::-1])\n",
    "print(\"I can only speak backwards.\"[::-1])\n",
    "print(\"How do you speak? A different language or accent counts!\"[::-1])\n"
   ]
  },
  {
   "cell_type": "code",
   "execution_count": 83,
   "id": "47862bf9",
   "metadata": {},
   "outputs": [],
   "source": [
    "myFavoriteDesserts = [] #### This is a mutation.\n",
    "myFavoriteDesserts = [\"I don't know, this is so crazy. Crazy? I was crazy once. They locked me in a room. A rubber room. A rubber room with rats. And a rubber room with rats makes me crazy. Crazy? I was crazy once. They locked me in a room. A rubber room. A rubber room with rats. And a rubber room with rats makes me crazy.  Crazy? I was crazy once. They locked me in a room. A rubber room. A rubber room with rats. And a rubber room with rats makes me crazy. Crazy? I was crazy once. They locked me in a room. A rubber room. A rubber room with rats. And a rubber room with rats makes me crazy. Crazy? I was crazy once. They locked me in a room. A rubber room. A rubber room with rats. And a rubber room with rats makes me crazy. Crazy? I was crazy once. They locked me in a room. A rubber room. A rubber room with rats. And a rubber room with rats makes me crazy. Crazy? I was crazy once. They locked me in a room. A rubber room. A rubber room with rats. And a rubber room with rats makes me crazy. Crazy? I was crazy once. They locked me in a room. A rubber room. A rubber room with rats. And a rubber room with rats makes me crazy. Crazy? I was crazy once. They locked me in a room. A rubber room. A rubber room with rats. And a rubber room with rats makes me crazy. Crazy? I was crazy once. They locked me in a room. A rubber room. A rubber room with rats. And a rubber room with rats makes me crazy. Crazy? I was crazy once. They locked me in a room. A rubber room. A rubber room with rats. And a rubber room with rats makes me crazy. Crazy? I was crazy once. They locked me in a room. A rubber room. A rubber room with rats. And a rubber room with rats makes me crazy. Crazy? I was crazy once. They locked me in a room. A rubber room. A rubber room with rats. And a rubber room with rats makes me crazy. Crazy? I was crazy once. They locked me in a room. A rubber room. A rubber room with rats. And a rubber room with rats makes me crazy. \"  ]"
   ]
  },
  {
   "cell_type": "code",
   "execution_count": 82,
   "id": "f6601df3",
   "metadata": {},
   "outputs": [
    {
     "name": "stdout",
     "output_type": "stream",
     "text": [
      "[\"I don't know, this is so crazy. Crazy? I was crazy once. They locked me in a room. A rubber room. A rubber room with rats. And a rubber room with rats makes me crazy.Crazy? I was crazy once. They locked me in a room. A rubber room. A rubber room with rats. And a rubber room with rats makes me crazy.Crazy? I was crazy once. They locked me in a room. A rubber room. A rubber room with rats. And a rubber room with rats makes me crazy.Crazy? I was crazy once. They locked me in a room. A rubber room. A rubber room with rats. And a rubber room with rats makes me crazy.Crazy? I was crazy once. They locked me in a room. A rubber room. A rubber room with rats. And a rubber room with rats makes me crazy.Crazy? I was crazy once. They locked me in a room. A rubber room. A rubber room with rats. And a rubber room with rats makes me crazy.Crazy? I was crazy once. They locked me in a room. A rubber room. A rubber room with rats. And a rubber room with rats makes me crazy.Crazy? I was crazy once. They locked me in a room. A rubber room. A rubber room with rats. And a rubber room with rats makes me crazy.Crazy? I was crazy once. They locked me in a room. A rubber room. A rubber room with rats. And a rubber room with rats makes me crazy.Crazy? I was crazy once. They locked me in a room. A rubber room. A rubber room with rats. And a rubber room with rats makes me crazy.Crazy? I was crazy once. They locked me in a room. A rubber room. A rubber room with rats. And a rubber room with rats makes me crazy.Crazy? I was crazy once. They locked me in a room. A rubber room. A rubber room with rats. And a rubber room with rats makes me crazy.Crazy? I was crazy once. They locked me in a room. A rubber room. A rubber room with rats. And a rubber room with rats makes me crazy.Crazy? I was crazy once. They locked me in a room. A rubber room. A rubber room with rats. And a rubber room with rats makes me crazy. \"]\n"
     ]
    }
   ],
   "source": [
    "print(myFavoriteDesserts)"
   ]
  },
  {
   "cell_type": "code",
   "execution_count": 85,
   "id": "974a02aa",
   "metadata": {},
   "outputs": [
    {
     "name": "stdout",
     "output_type": "stream",
     "text": [
      "True\n"
     ]
    }
   ],
   "source": [
    "print('pomelo' in citruses)"
   ]
  },
  {
   "cell_type": "code",
   "execution_count": 86,
   "id": "1a26bb93",
   "metadata": {},
   "outputs": [
    {
     "name": "stdout",
     "output_type": "stream",
     "text": [
      "These are Anzie's favorite things: ['Roblox', 'Coding', 'Mazes', 'Plushies', 'Y2k Clothes']\n"
     ]
    }
   ],
   "source": [
    "myFavThings = ['Roblox', 'Coding', 'Mazes', 'Plushies', 'Y2k Clothes']\n",
    "print(f\"These are Anzie's favorite things: {myFavThings}\")"
   ]
  },
  {
   "cell_type": "code",
   "execution_count": 87,
   "id": "475ab6d3",
   "metadata": {},
   "outputs": [
    {
     "name": "stdout",
     "output_type": "stream",
     "text": [
      "We did not see the same thing on the first cloud.\n",
      "We saw the same thing on the second cloud!\n",
      "We did not see the same thing on the third cloud.\n",
      "We saw the same thing on the fourth cloud!\n",
      "We did not see the same thing on the fifth cloud.\n"
     ]
    }
   ],
   "source": [
    "myCloudShapes = ['circle', 'turtle', 'dolphin', 'truck', 'apple']\n",
    "friendCloudShapes = ['apple', 'turtle', 'spoon', 'truck', 'circle']\n",
    "if myCloudShapes[0] == friendCloudShapes[0]:\n",
    " print(\"We saw the same thing on the first cloud!\")\n",
    "else:\n",
    " print(\"We did not see the same thing on the first cloud.\")\n",
    "if myCloudShapes[1] == friendCloudShapes[1]:\n",
    " print(\"We saw the same thing on the second cloud!\")\n",
    "else:\n",
    " print(\"We did not see the same thing on the second cloud.\")\n",
    "if myCloudShapes[2] == friendCloudShapes[2]:\n",
    " print(\"We saw the same thing on the third cloud!\")\n",
    "else:\n",
    " print(\"We did not see the same thing on the third cloud.\")\n",
    "if myCloudShapes[3] == friendCloudShapes[3]:\n",
    " print(\"We saw the same thing on the fourth cloud!\")\n",
    "else:\n",
    " print(\"We did not see the same thing on the fourth cloud.\")\n",
    "if myCloudShapes[4] == friendCloudShapes[4]:\n",
    " print(\"We saw the same thing on the fifth cloud!\")\n",
    "else:\n",
    " print(\"We did not see the same thing on the fifth cloud.\")"
   ]
  },
  {
   "cell_type": "code",
   "execution_count": 88,
   "id": "d990c883",
   "metadata": {},
   "outputs": [
    {
     "name": "stdout",
     "output_type": "stream",
     "text": [
      "table tennis\n"
     ]
    }
   ],
   "source": [
    "randomItems = ['basket', 'tennis', 'bread', 'table', 'ball', 'game', 'box']\n",
    "print(f\"{randomItems[3]} {randomItems[1]}\")"
   ]
  },
  {
   "cell_type": "code",
   "execution_count": 89,
   "id": "eb3254dc",
   "metadata": {},
   "outputs": [
    {
     "name": "stdout",
     "output_type": "stream",
     "text": [
      " tennis ball\n"
     ]
    }
   ],
   "source": [
    "print(f\" {randomItems[1]} {randomItems[4]}\")"
   ]
  },
  {
   "cell_type": "code",
   "execution_count": 90,
   "id": "189c9254",
   "metadata": {},
   "outputs": [
    {
     "name": "stdout",
     "output_type": "stream",
     "text": [
      "bread basket\n"
     ]
    }
   ],
   "source": [
    "print(f\"{randomItems[2]} {randomItems[0]}\")"
   ]
  },
  {
   "cell_type": "code",
   "execution_count": 91,
   "id": "5a93f19a",
   "metadata": {},
   "outputs": [
    {
     "name": "stdout",
     "output_type": "stream",
     "text": [
      " ball game\n"
     ]
    }
   ],
   "source": [
    "print(f\" {randomItems[4]} {randomItems[5]}\")"
   ]
  },
  {
   "cell_type": "code",
   "execution_count": 92,
   "id": "bc0b107c",
   "metadata": {},
   "outputs": [
    {
     "name": "stdout",
     "output_type": "stream",
     "text": [
      "basket ball\n"
     ]
    }
   ],
   "source": [
    "print(f\"{randomItems[0]} {randomItems[4]}\")"
   ]
  },
  {
   "cell_type": "code",
   "execution_count": 93,
   "id": "57b998b3",
   "metadata": {},
   "outputs": [
    {
     "name": "stdout",
     "output_type": "stream",
     "text": [
      "bread box\n"
     ]
    }
   ],
   "source": [
    "print(f\"{randomItems[2]} {randomItems[6]}\")"
   ]
  },
  {
   "cell_type": "code",
   "execution_count": 94,
   "id": "bc58d019",
   "metadata": {},
   "outputs": [
    {
     "name": "stdout",
     "output_type": "stream",
     "text": [
      "game box\n"
     ]
    }
   ],
   "source": [
    "print(f\"{randomItems[5]} {randomItems[6]}\")"
   ]
  },
  {
   "cell_type": "code",
   "execution_count": 112,
   "id": "c038a338",
   "metadata": {},
   "outputs": [
    {
     "name": "stdout",
     "output_type": "stream",
     "text": [
      "The order of the Pet Parade is: ['pauline the parrot', 'pete the pug', 'sally the siamese cat', 'beau the boxer', 'tubby the tabby cat', 'mimi the maltese cat', 'cory the corgi']\n"
     ]
    }
   ],
   "source": [
    "petParadeOrder = [\n",
    "    'pete the pug',\n",
    "    'sally the siamese cat',\n",
    "    'beau the boxer',\n",
    "    'lulu the labrador',\n",
    "    'lily the lynx',\n",
    "    'pauline the parrot',\n",
    "    'gina the gerbil',\n",
    "    'tubby the tabby cat'\n",
    "]\n",
    "petParadeOrder = [\n",
    "    'pete the pug',\n",
    "    'sally the siamese cat',\n",
    "    'beau the boxer',\n",
    "    'lulu the labrador',\n",
    "    'lily the lynx',\n",
    "    'pauline the parrot',\n",
    "    'gina the gerbil',\n",
    "    'tubby the tabby cat'\n",
    "]\n",
    "\n",
    "# Remove gina\n",
    "petParadeOrder.remove('gina the gerbil')\n",
    "\n",
    "# Move pauline to the front (remove her first, then insert her at position 0)\n",
    "petParadeOrder.remove('pauline the parrot')\n",
    "petParadeOrder.insert(0, 'pauline the parrot')  # ✅ now she's at the start\n",
    "\n",
    "# Add two more pets\n",
    "petParadeOrder.append('mimi the maltese cat')\n",
    "petParadeOrder.append('cory the corgi')\n",
    "\n",
    "# Remove two more pets\n",
    "petParadeOrder.remove('lulu the labrador')\n",
    "petParadeOrder.remove('lily the lynx')\n",
    "\n",
    "# Show the final order\n",
    "print(f\"The order of the Pet Parade is: {petParadeOrder}\")\n",
    "\n"
   ]
  },
  {
   "cell_type": "code",
   "execution_count": null,
   "id": "0f236deb",
   "metadata": {},
   "outputs": [],
   "source": [
    "year = 2025\n",
    "age = 10\n",
    "favoriteOutfit = \"hood and baggy jeans\"\n",
    "favoriteHobby = \"gaming\" \n",
    "if year == 2025:\n",
    "    print(f\"It is 2025. I am currently {age} years old.\")"
   ]
  }
 ],
 "metadata": {
  "kernelspec": {
   "display_name": "Python 3",
   "language": "python",
   "name": "python3"
  },
  "language_info": {
   "codemirror_mode": {
    "name": "ipython",
    "version": 3
   },
   "file_extension": ".py",
   "mimetype": "text/x-python",
   "name": "python",
   "nbconvert_exporter": "python",
   "pygments_lexer": "ipython3",
   "version": "3.10.11"
  }
 },
 "nbformat": 4,
 "nbformat_minor": 5
}
