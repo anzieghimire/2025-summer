{
 "cells": [
  {
   "cell_type": "markdown",
   "id": "cb7ec061",
   "metadata": {},
   "source": [
    "## From Python book for kids"
   ]
  }
 ],
 "metadata": {
  "kernelspec": {
   "display_name": "Python 3",
   "language": "python",
   "name": "python3"
  },
  "language_info": {
   "name": "python",
   "version": "3.10.11"
  }
 },
 "nbformat": 4,
 "nbformat_minor": 5
}
