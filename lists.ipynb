{
 "cells": [
  {
   "cell_type": "code",
   "execution_count": 2,
   "id": "c8de1ae1",
   "metadata": {},
   "outputs": [
    {
     "name": "stdout",
     "output_type": "stream",
     "text": [
      "banana\n"
     ]
    }
   ],
   "source": [
    "fruits = [\"apple\", \"banana\", \"cherry\"]\n",
    "print(fruits[1])\n"
   ]
  },
  {
   "cell_type": "code",
   "execution_count": 1,
   "id": "da1ee281",
   "metadata": {},
   "outputs": [
    {
     "name": "stdout",
     "output_type": "stream",
     "text": [
      "4\n"
     ]
    }
   ],
   "source": [
    "print(len([1, 2, 3, 4]))"
   ]
  },
  {
   "cell_type": "code",
   "execution_count": 3,
   "id": "a8aeb05c",
   "metadata": {},
   "outputs": [],
   "source": [
    "du = [\"apple\", \"banana\"]\n",
    "du.append(\"grape\")"
   ]
  },
  {
   "cell_type": "code",
   "execution_count": 4,
   "id": "c5d942d5",
   "metadata": {},
   "outputs": [
    {
     "name": "stdout",
     "output_type": "stream",
     "text": [
      "['apple', 'cherry']\n"
     ]
    }
   ],
   "source": [
    "duu = [\"apple\", \"banana\", \"cherry\"]\n",
    "duu.pop(1)\n",
    "print(duu)"
   ]
  },
  {
   "cell_type": "code",
   "execution_count": null,
   "id": "e203ce18",
   "metadata": {},
   "outputs": [],
   "source": [
    "animals = [\"cat\", \"dog\", \"cat\", \"bird\"]\n",
    "count = animals.count(\"cat\")\n",
    "print(count)\n"
   ]
  },
  {
   "cell_type": "code",
   "execution_count": null,
   "id": "01d72919",
   "metadata": {},
   "outputs": [],
   "source": [
    "things = [\"pen\", \"pencil\", \"eraser\"]\n",
    "print(\"marker\" in things)\n"
   ]
  },
  {
   "cell_type": "code",
   "execution_count": 9,
   "id": "73e7229d",
   "metadata": {},
   "outputs": [
    {
     "data": {
      "text/plain": [
       "[1, 2, 3, 4]"
      ]
     },
     "execution_count": 9,
     "metadata": {},
     "output_type": "execute_result"
    }
   ],
   "source": [
    "[1, 2] + [3, 4]"
   ]
  },
  {
   "cell_type": "code",
   "execution_count": 7,
   "id": "aa593211",
   "metadata": {},
   "outputs": [
    {
     "name": "stdout",
     "output_type": "stream",
     "text": [
      "['cat', 'hamster', 'rabbit']\n"
     ]
    }
   ],
   "source": [
    "animals = [\"cat\", \"dog\", \"rabbit\"]\n",
    "animals = [\"cat\", \"dog\", \"rabbit\"]\n",
    "animals[1] = \"hamster\"\n",
    "print(animals)\n"
   ]
  },
  {
   "cell_type": "code",
   "execution_count": 10,
   "id": "692b36ad",
   "metadata": {},
   "outputs": [
    {
     "name": "stdout",
     "output_type": "stream",
     "text": [
      "[1, 2, 3, 4, 5]\n"
     ]
    }
   ],
   "source": [
    " nums =[5, 3, 1, 4, 2]\n",
    " nums.sort()\n",
    " print(nums)"
   ]
  },
  {
   "cell_type": "code",
   "execution_count": 11,
   "id": "e874b524",
   "metadata": {},
   "outputs": [
    {
     "data": {
      "text/plain": [
       "['a', 'b', 'c', 'a', 'b', 'c']"
      ]
     },
     "execution_count": 11,
     "metadata": {},
     "output_type": "execute_result"
    }
   ],
   "source": [
    "[\"a\", \"b\", \"c\"] * 2"
   ]
  },
  {
   "cell_type": "code",
   "execution_count": 12,
   "id": "b6ff3976",
   "metadata": {},
   "outputs": [
    {
     "name": "stdout",
     "output_type": "stream",
     "text": [
      "[4, 3, 2, 1]\n"
     ]
    }
   ],
   "source": [
    "guh = [1, 2, 3, 4]\n",
    "print(guh[::-1])"
   ]
  },
  {
   "cell_type": "code",
   "execution_count": 16,
   "id": "d277645d",
   "metadata": {},
   "outputs": [
    {
     "name": "stdout",
     "output_type": "stream",
     "text": [
      "Pneumonoultramicroscopicsilicovolcanoconiosis!\n",
      "✨✨✨ Pneumonoultramicroscopicsilicovolcanoconiosis! ✨✨✨\n"
     ]
    }
   ],
   "source": [
    "\n",
    "from colorama import Fore, Style, init\n",
    "import time\n",
    "\n",
    "init()  # Initialize colorama\n",
    "\n",
    "magic_word = \"Pneumonoultramicroscopicsilicovolcanoconiosis!\"\n",
    "\n",
    "colors = [Fore.RED, Fore.YELLOW, Fore.GREEN, Fore.CYAN, Fore.MAGENTA]\n",
    "\n",
    "for i, letter in enumerate(magic_word):\n",
    "    color = colors[i % len(colors)]  # Cycle through colors\n",
    "    print(color + letter + Style.RESET_ALL, end=\"\", flush=True)\n",
    "    time.sleep(0.3)  # Wait a little for magic effect\n",
    "\n",
    "print(f\"\\n✨✨✨ {magic_word} ✨✨✨\")\n"
   ]
  },
  {
   "cell_type": "code",
   "execution_count": null,
   "id": "e7103611",
   "metadata": {},
   "outputs": [],
   "source": [
    "letters = [\"a\", \"b\", \"c\"]\n",
    "for letter in letters:\n",
    "    print(letter)\n"
   ]
  },
  {
   "cell_type": "code",
   "execution_count": null,
   "id": "dca7bebe",
   "metadata": {},
   "outputs": [],
   "source": [
    "nums = [1, 2, 3]\n",
    "nums.clear()\n"
   ]
  },
  {
   "cell_type": "code",
   "execution_count": 8,
   "id": "b63eef3e",
   "metadata": {},
   "outputs": [],
   "source": [
    "# .append() vs .extend() in Python\n",
    "\n",
    "# .append() adds the whole item as a single element to the end of the list\n",
    "# Example:\n",
    "list1 = [1, 2]\n",
    "list1.append([3, 4])\n",
    "# list1 becomes: [1, 2, [3, 4]]\n",
    "\n",
    "# .extend() adds each element of the iterable (like a list) to the list\n",
    "# Example:\n",
    "list2 = [1, 2]\n",
    "list2.extend([3, 4])\n",
    "# list2 becomes: [1, 2, 3, 4]\n",
    "\n",
    "# So:\n",
    "# - .append() keeps the item whole (like nesting)\n",
    "# - .extend() spreads the contents into the list"
   ]
  }
 ],
 "metadata": {
  "kernelspec": {
   "display_name": "Python 3",
   "language": "python",
   "name": "python3"
  },
  "language_info": {
   "codemirror_mode": {
    "name": "ipython",
    "version": 3
   },
   "file_extension": ".py",
   "mimetype": "text/x-python",
   "name": "python",
   "nbconvert_exporter": "python",
   "pygments_lexer": "ipython3",
   "version": "3.10.11"
  }
 },
 "nbformat": 4,
 "nbformat_minor": 5
}
